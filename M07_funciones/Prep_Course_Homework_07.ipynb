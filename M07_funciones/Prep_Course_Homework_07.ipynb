{
 "cells": [
  {
   "attachments": {},
   "cell_type": "markdown",
   "metadata": {},
   "source": [
    "## Funciones"
   ]
  },
  {
   "attachments": {},
   "cell_type": "markdown",
   "metadata": {},
   "source": [
    "1) Crear una función que reciba un número como parámetro y devuelva True si es primo y False si no lo es"
   ]
  },
  {
   "cell_type": "code",
   "execution_count": 2,
   "metadata": {},
   "outputs": [],
   "source": [
    "def Primo(n:int)->bool:\n",
    "    '''Ésta función recibe un número y devuelve un booleano; cual sea el caso del número'''\n",
    "    prime=True\n",
    "    for i in range(2,n):\n",
    "        if n%i==0:\n",
    "            prime=False\n",
    "            break\n",
    "    return prime"
   ]
  },
  {
   "cell_type": "code",
   "execution_count": 3,
   "metadata": {},
   "outputs": [
    {
     "name": "stdout",
     "output_type": "stream",
     "text": [
      "[1, 2, 3, 5, 7, 11, 13, 17, 19, 23, 29, 31, 37, 41, 43, 47]\n"
     ]
    }
   ],
   "source": [
    "primos=[i for i in list(range(1,51)) if Primo(i)==True]\n",
    "print(primos)"
   ]
  },
  {
   "attachments": {},
   "cell_type": "markdown",
   "metadata": {},
   "source": [
    "2) Utilizando la función del punto 1, realizar otra función que reciba de parámetro una lista de números y devuelva sólo aquellos que son primos en otra lista"
   ]
  },
  {
   "cell_type": "code",
   "execution_count": 8,
   "metadata": {},
   "outputs": [],
   "source": [
    "def Lista_de_Primos(lis):\n",
    "    '''Éstas función recibe una lista de números y devuelve otra lista con los números primos que estaén en la lista de entrada'''\n",
    "    return [i for i in lis if Primo(i)==True]"
   ]
  },
  {
   "cell_type": "code",
   "execution_count": 9,
   "metadata": {},
   "outputs": [
    {
     "data": {
      "text/plain": [
       "[1, 2, 3, 5, 7, 11, 13, 17, 19, 23, 29, 31, 37, 41, 43, 47]"
      ]
     },
     "execution_count": 9,
     "metadata": {},
     "output_type": "execute_result"
    }
   ],
   "source": [
    "Lista_de_Primos(list(range(1,51)))"
   ]
  },
  {
   "attachments": {},
   "cell_type": "markdown",
   "metadata": {},
   "source": [
    "3) Crear una función que al recibir una lista de números, devuelva el que más se repite y cuántas veces lo hace. Si hay más de un \"más repetido\", que devuelva cualquiera"
   ]
  },
  {
   "cell_type": "code",
   "execution_count": 38,
   "metadata": {},
   "outputs": [],
   "source": [
    "def Most_Common(lis,max_or_min='Max'):\n",
    "    '''Ésta función recibe una lista de números y devuelve la moda.\n",
    "    En caso de que exista más de una moda, devuelve cualquiera. '''\n",
    "    dicc={}\n",
    "    for i in lis:\n",
    "        if i in dicc.keys():\n",
    "            dicc[i]+=1\n",
    "        else:\n",
    "            dicc[i]=1\n",
    "    max_rep=0\n",
    "    most_rep=[]\n",
    "    for num,rep in dicc.items():\n",
    "        if rep>max_rep:\n",
    "            most_rep=[num]\n",
    "            max_rep=rep\n",
    "        elif rep==max_rep:\n",
    "            most_rep.append(num)\n",
    "    if max_or_min=='Max':\n",
    "        return f' El número {max(most_rep)} es el mayor de los más repetidos con {max_rep} repeticiones'\n",
    "    elif max_or_min=='Min':\n",
    "        return f' El número {min(most_rep)} es el menor de los más repetidos con {max_rep} repeticiones'"
   ]
  },
  {
   "cell_type": "code",
   "execution_count": 40,
   "metadata": {},
   "outputs": [
    {
     "data": {
      "text/plain": [
       "' El número 4 es el menor de los más repetidos con 5 repeticiones'"
      ]
     },
     "execution_count": 40,
     "metadata": {},
     "output_type": "execute_result"
    }
   ],
   "source": [
    "my_lis=[2,1,4,5,3,7,9,4,6,2,6,4,3,6,4,8,5,6,2,4,1,9,3,6,8]\n",
    "Most_Common(my_lis,'Min')"
   ]
  },
  {
   "attachments": {},
   "cell_type": "markdown",
   "metadata": {},
   "source": [
    "4) Crear una función que convierta entre grados Celsius, Farenheit y Kelvin<br>\n",
    "Fórmula 1\t: (°C × 9/5) + 32 = °F<br>\n",
    "Fórmula 2\t: °C + 273.15 = °K<br>\n",
    "Debe recibir 3 parámetros: el valor, la medida de orígen y la medida de destino\n"
   ]
  },
  {
   "cell_type": "code",
   "execution_count": 51,
   "metadata": {},
   "outputs": [],
   "source": [
    "def Degree_Transformation(val,orgn,dest):\n",
    "    '''Ésta función recibe una variable de tipo \"int\" representando temperatura; \n",
    "    recibe el origen de temperatura (ya sea \"Celsius\", \"Farenheit\" ó \"Kelvin\"; \n",
    "    de la misma manera que el destino de transformación)'''\n",
    "    if orgn=='Celsius':\n",
    "        if dest=='Celsius':\n",
    "            return val\n",
    "        elif dest=='Farenheit':\n",
    "            return (val*(9/5))+32\n",
    "        elif dest=='Kelvin':\n",
    "            return val+273.15\n",
    "        else:\n",
    "            return 'Hay un error en el valor de destino'\n",
    "    elif orgn=='Farenheit':\n",
    "        if dest=='Celsius':\n",
    "            return (val-32)*(5/9)\n",
    "        elif dest=='Farenheit':\n",
    "            return val\n",
    "        elif dest=='Kelvin':\n",
    "            return ((val-32)*(5/9))+273.15\n",
    "        else:\n",
    "            return 'Hay un error en el valor de destino'\n",
    "    elif orgn=='Kelvin':\n",
    "        if dest=='Celsius':\n",
    "            return val-273.15\n",
    "        elif dest=='Farenheit':\n",
    "            return ((val-273.15)*(9/5))+32\n",
    "        elif dest=='Kelvin':\n",
    "            return val\n",
    "        else:\n",
    "            return 'Hay un error en el valor de destino'\n",
    "    else:\n",
    "        return 'Hay un error en el valor de origen'"
   ]
  },
  {
   "cell_type": "code",
   "execution_count": 52,
   "metadata": {},
   "outputs": [
    {
     "data": {
      "text/plain": [
       "305.15"
      ]
     },
     "execution_count": 52,
     "metadata": {},
     "output_type": "execute_result"
    }
   ],
   "source": [
    "Degree_Transformation(32,'Celsius','Kelvin')"
   ]
  },
  {
   "attachments": {},
   "cell_type": "markdown",
   "metadata": {},
   "source": [
    "5) Iterando una lista con los tres valores posibles de temperatura que recibe la función del punto 5, hacer un print para cada combinación de los mismos:"
   ]
  },
  {
   "cell_type": "code",
   "execution_count": 53,
   "metadata": {},
   "outputs": [
    {
     "name": "stdout",
     "output_type": "stream",
     "text": [
      "32° Celsius a Celsius es 32\n",
      "32° Celsius a Farenheit es 89.6\n",
      "32° Celsius a Kelvin es 305.15\n",
      "32° Farenheit a Celsius es 0.0\n",
      "32° Farenheit a Farenheit es 32\n",
      "32° Farenheit a Kelvin es 273.15\n",
      "32° Kelvin a Celsius es -241.14999999999998\n",
      "32° Kelvin a Farenheit es -402.07\n",
      "32° Kelvin a Kelvin es 32\n"
     ]
    }
   ],
   "source": [
    "temperature=32\n",
    "values=['Celsius','Farenheit','Kelvin']\n",
    "\n",
    "for i in values:\n",
    "    for j in values:\n",
    "        print(f'{temperature}° {i} a {j} es {Degree_Transformation(temperature,i,j)}')"
   ]
  },
  {
   "attachments": {},
   "cell_type": "markdown",
   "metadata": {},
   "source": [
    "6) Armar una función que devuelva el factorial de un número. Tener en cuenta que el usuario puede equivocarse y enviar de parámetro un número no entero o negativo"
   ]
  },
  {
   "cell_type": "code",
   "execution_count": 58,
   "metadata": {},
   "outputs": [],
   "source": [
    "def Factorial(n):\n",
    "    '''Ésta función devuelve el factorial de un número entero y positivo; \n",
    "    en caso contrario, devuelve el mismo número.'''\n",
    "    if type(n)==int and n>0:\n",
    "        if n==1:\n",
    "            return 1\n",
    "        else:\n",
    "            return n*Factorial(n-1)\n",
    "    else:\n",
    "        return n"
   ]
  },
  {
   "cell_type": "code",
   "execution_count": 62,
   "metadata": {},
   "outputs": [
    {
     "data": {
      "text/plain": [
       "120"
      ]
     },
     "execution_count": 62,
     "metadata": {},
     "output_type": "execute_result"
    }
   ],
   "source": [
    "Factorial(5)"
   ]
  }
 ],
 "metadata": {
  "interpreter": {
   "hash": "c85384e4cb51c8b72350f3a8712cc8351fdc3955e32a27f9b60c6242ab125f01"
  },
  "kernelspec": {
   "display_name": "Python 3 (ipykernel)",
   "language": "python",
   "name": "python3"
  },
  "language_info": {
   "codemirror_mode": {
    "name": "ipython",
    "version": 3
   },
   "file_extension": ".py",
   "mimetype": "text/x-python",
   "name": "python",
   "nbconvert_exporter": "python",
   "pygments_lexer": "ipython3",
   "version": "3.11.4"
  }
 },
 "nbformat": 4,
 "nbformat_minor": 4
}
