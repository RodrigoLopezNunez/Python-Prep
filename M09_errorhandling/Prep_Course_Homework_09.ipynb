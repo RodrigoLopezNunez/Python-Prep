{
 "cells": [
  {
   "attachments": {},
   "cell_type": "markdown",
   "metadata": {},
   "source": [
    "## Manejo de errores"
   ]
  },
  {
   "attachments": {},
   "cell_type": "markdown",
   "metadata": {},
   "source": [
    "1) Con la clase creada en el módulo 7, tener en cuenta diferentes casos en que el código pudiera arrojar error. Por ejemplo, en la creación del objeto recibimos una lista de números enteros pero ¿qué pasa si se envía otro tipo de dato?"
   ]
  },
  {
   "cell_type": "code",
   "execution_count": 6,
   "metadata": {},
   "outputs": [],
   "source": [
    "class Tools_sec:\n",
    "    def __init__(self,lis:list):\n",
    "        self.lis=lis\n",
    "        if all([isinstance(i,int) for i in self.lis]):\n",
    "            def check_prime(self,lis:list)->list:\n",
    "                lis_of_primes=[i for i in self.lis if self.__check_prime(i)==True]\n",
    "                return lis_of_primes\n",
    "            def __check_prime(self,n:int)->bool:\n",
    "                '''Ésta función recibe un número y verifica si es primo.\n",
    "                        n: Es un número entero positivo\n",
    "                        output: Devuelve un booleano.'''\n",
    "                prime=True\n",
    "                for i in range(2,n):\n",
    "                    if n%i==0:\n",
    "                        prime=False\n",
    "                        break\n",
    "                return prime\n",
    "        \n",
    "            def most_common(self,lis:list,max_or_min='max')->int:\n",
    "                '''Ésta función itera una lista de números y devuelve el valor modal.\n",
    "                        list: Una lista de números enteros.\n",
    "                        output: Es una str con el valor modal y el número de repeticiones.'''\n",
    "                dicc={}\n",
    "                for i in lis:\n",
    "                    if i in dicc.keys():\n",
    "                        dicc[i]+=1\n",
    "                    else:\n",
    "                        dicc[i]=1\n",
    "                most_rep=[]\n",
    "                max_rep=0\n",
    "                for n,rep in dicc.items():\n",
    "                    if rep>max_rep:\n",
    "                        most_rep=[n]\n",
    "                        max_rep=rep\n",
    "                    elif rep==max_rep:\n",
    "                        most_rep.append(n)\n",
    "                if max_or_min=='Max':\n",
    "                    return f'El número mayor más repetido es {max(most_rep)} con {max_rep}'\n",
    "                elif max_or_min=='Min':\n",
    "                    return f'El número menor más repetido es {min(most_rep)} con {max_rep}'\n",
    "                else:\n",
    "                    return TypeError\n",
    "        \n",
    "            def Degree_Tranformation(self,lis:list,org:str,dest:str)->list:\n",
    "                sec_lis=[self.__Degree_Transformation(i,org,dest) for i in self.lis]\n",
    "                return f'{lis} de {org}° a {dest}° es',sec_lis\n",
    "            def __Degree_Transformation(self,val:str,orgn:str,dest:str)->int:\n",
    "                '''Ésta función recibe una variable de tipo \"int\" representando temperatura; \n",
    "                    recibe el origen de temperatura (ya sea \"Celsius\", \"Farenheit\" ó \"Kelvin\"; \n",
    "                        de la misma manera que el destino de transformación)'''\n",
    "                if orgn=='Celsius':\n",
    "                    if dest=='Celsius':\n",
    "                        return val\n",
    "                    elif dest=='Farenheit':\n",
    "                        return (val*(9/5))+32\n",
    "                    elif dest=='Kelvin':\n",
    "                        return val+273.15\n",
    "                    else:\n",
    "                        return 'Hay un error en el valor de destino'\n",
    "                elif orgn=='Farenheit':\n",
    "                    if dest=='Celsius':\n",
    "                        return (val-32)*(5/9)\n",
    "                    elif dest=='Farenheit':\n",
    "                        return val\n",
    "                    elif dest=='Kelvin':\n",
    "                        return ((val-32)*(5/9))+273.15\n",
    "                    else:\n",
    "                        return 'Hay un error en el valor de destino'\n",
    "                elif orgn=='Kelvin':\n",
    "                    if dest=='Celsius':\n",
    "                        return val-273.15\n",
    "                    elif dest=='Farenheit':\n",
    "                        return ((val-273.15)*(9/5))+32\n",
    "                    elif dest=='Kelvin':\n",
    "                        return val\n",
    "                    else:\n",
    "                        return 'Hay un error en el valor de destino'\n",
    "                else:\n",
    "                    return 'Hay un error en el valor de origen'\n",
    "        \n",
    "            def factorial(self,lis:list)->list:\n",
    "                fact_lis=[self.__factorial(i) for i in self.lis]\n",
    "                return fact_lis\n",
    "            def __factorial(self,n:int)->int:\n",
    "                '''Ésta función devuelve el factorial de un número.\n",
    "                        n: Es un número entero y positivo\n",
    "                        output: Es un número estero y positivo'''\n",
    "                if type(n)==int and n>0:\n",
    "                    if n==1:\n",
    "                        return 1\n",
    "                    else:\n",
    "                        return n*self.__factorial(n-1)\n",
    "                else:\n",
    "                    return f'Hay un error en el valor de entrada. Por favor, revísalo.'\n",
    "        else:\n",
    "            raise Exception('La lista debe contener sólo números enteros')"
   ]
  },
  {
   "cell_type": "code",
   "execution_count": 22,
   "metadata": {},
   "outputs": [
    {
     "ename": "AttributeError",
     "evalue": "'Tools_sec' object has no attribute 'lis'",
     "output_type": "error",
     "traceback": [
      "\u001b[1;31m---------------------------------------------------------------------------\u001b[0m",
      "\u001b[1;31mAttributeError\u001b[0m                            Traceback (most recent call last)",
      "\u001b[1;32mc:\\Users\\roylo\\OneDrive\\Escritorio\\Data Science\\Python-Prep\\M09_errorhandling\\Prep_Course_Homework_09.ipynb Celda 4\u001b[0m line \u001b[0;36m1\n\u001b[1;32m----> <a href='vscode-notebook-cell:/c%3A/Users/roylo/OneDrive/Escritorio/Data%20Science/Python-Prep/M09_errorhandling/Prep_Course_Homework_09.ipynb#X21sZmlsZQ%3D%3D?line=0'>1</a>\u001b[0m t\u001b[39m=\u001b[39mTools_sec([\u001b[39m1\u001b[39;49m,\u001b[39m56\u001b[39;49m,\u001b[39m7.9\u001b[39;49m,\u001b[39m'\u001b[39;49m\u001b[39mRoy\u001b[39;49m\u001b[39m'\u001b[39;49m])\n",
      "\u001b[1;32mc:\\Users\\roylo\\OneDrive\\Escritorio\\Data Science\\Python-Prep\\M09_errorhandling\\Prep_Course_Homework_09.ipynb Celda 4\u001b[0m line \u001b[0;36m3\n\u001b[0;32m      <a href='vscode-notebook-cell:/c%3A/Users/roylo/OneDrive/Escritorio/Data%20Science/Python-Prep/M09_errorhandling/Prep_Course_Homework_09.ipynb#X21sZmlsZQ%3D%3D?line=1'>2</a>\u001b[0m \u001b[39mdef\u001b[39;00m \u001b[39m__init__\u001b[39m(\u001b[39mself\u001b[39m,lis:\u001b[39mlist\u001b[39m):\n\u001b[1;32m----> <a href='vscode-notebook-cell:/c%3A/Users/roylo/OneDrive/Escritorio/Data%20Science/Python-Prep/M09_errorhandling/Prep_Course_Homework_09.ipynb#X21sZmlsZQ%3D%3D?line=2'>3</a>\u001b[0m     \u001b[39mif\u001b[39;00m \u001b[39mall\u001b[39m([\u001b[39misinstance\u001b[39m(i,\u001b[39mint\u001b[39m) \u001b[39mfor\u001b[39;00m i \u001b[39min\u001b[39;00m \u001b[39mself\u001b[39;49m\u001b[39m.\u001b[39;49mlis]):\n\u001b[0;32m      <a href='vscode-notebook-cell:/c%3A/Users/roylo/OneDrive/Escritorio/Data%20Science/Python-Prep/M09_errorhandling/Prep_Course_Homework_09.ipynb#X21sZmlsZQ%3D%3D?line=3'>4</a>\u001b[0m          \u001b[39mself\u001b[39m\u001b[39m.\u001b[39mlis\u001b[39m=\u001b[39mlis\n\u001b[0;32m      <a href='vscode-notebook-cell:/c%3A/Users/roylo/OneDrive/Escritorio/Data%20Science/Python-Prep/M09_errorhandling/Prep_Course_Homework_09.ipynb#X21sZmlsZQ%3D%3D?line=4'>5</a>\u001b[0m     \u001b[39melse\u001b[39;00m:\n",
      "\u001b[1;31mAttributeError\u001b[0m: 'Tools_sec' object has no attribute 'lis'"
     ]
    }
   ],
   "source": [
    "t=Tools_sec([1,56,7.9,'Roy'])"
   ]
  },
  {
   "attachments": {},
   "cell_type": "markdown",
   "metadata": {},
   "source": [
    "2) En la función que hace la conversión de grados, validar que los parámetros enviados sean los esperados, de no serlo, informar cuáles son los valores esperados."
   ]
  },
  {
   "cell_type": "code",
   "execution_count": 11,
   "metadata": {},
   "outputs": [],
   "source": [
    "class Tools_sec:\n",
    "    def __init__(self,lis:list):\n",
    "        if all([isinstance(i,int) for i in self.lis]):\n",
    "             self.lis=lis\n",
    "        else:\n",
    "            raise Exception('La lista debe contener sólo números enteros')\n",
    "    def check_prime(self,lis:list)->list:\n",
    "                lis_of_primes=[i for i in self.lis if self.__check_prime(i)==True]\n",
    "                return lis_of_primes\n",
    "    def __check_prime(self,n:int)->bool:\n",
    "                '''Ésta función recibe un número y verifica si es primo.\n",
    "                        n: Es un número entero positivo\n",
    "                        output: Devuelve un booleano.'''\n",
    "                prime=True\n",
    "                for i in range(2,n):\n",
    "                    if n%i==0:\n",
    "                        prime=False\n",
    "                        break\n",
    "                return prime\n",
    "        \n",
    "    def most_common(self,lis:list,max_or_min='max')->int:\n",
    "                '''Ésta función itera una lista de números y devuelve el valor modal.\n",
    "                        list: Una lista de números enteros.\n",
    "                        output: Es una str con el valor modal y el número de repeticiones.'''\n",
    "                dicc={}\n",
    "                for i in lis:\n",
    "                    if i in dicc.keys():\n",
    "                        dicc[i]+=1\n",
    "                    else:\n",
    "                        dicc[i]=1\n",
    "                most_rep=[]\n",
    "                max_rep=0\n",
    "                for n,rep in dicc.items():\n",
    "                    if rep>max_rep:\n",
    "                        most_rep=[n]\n",
    "                        max_rep=rep\n",
    "                    elif rep==max_rep:\n",
    "                        most_rep.append(n)\n",
    "                if max_or_min=='Max':\n",
    "                    return f'El número mayor más repetido es {max(most_rep)} con {max_rep}'\n",
    "                elif max_or_min=='Min':\n",
    "                    return f'El número menor más repetido es {min(most_rep)} con {max_rep}'\n",
    "                else:\n",
    "                    return TypeError\n",
    "        \n",
    "    def Degree_Tranformation(self,lis:list,org:str,dest:str)->list:\n",
    "            if org in ['Celsius','Farenheit','Kelvin'] and dest in ['Celsius','Farenheit','Kelvin']:\n",
    "                sec_lis=[self.__Degree_Transformation(i,org,dest) for i in self.lis]\n",
    "                return f'{lis} de {org}° a {dest}° es',sec_lis\n",
    "            else:\n",
    "                 raise Exception('LOs parámetros esperados son',['Celsius','Farenheit','Kelvin'])\n",
    "    def __Degree_Transformation(self,val:str,orgn:str,dest:str)->int:\n",
    "                '''Ésta función recibe una variable de tipo \"int\" representando temperatura; \n",
    "                    recibe el origen de temperatura (ya sea \"Celsius\", \"Farenheit\" ó \"Kelvin\"; \n",
    "                        de la misma manera que el destino de transformación)'''\n",
    "                if orgn=='Celsius':\n",
    "                    if dest=='Celsius':\n",
    "                        return val\n",
    "                    elif dest=='Farenheit':\n",
    "                        return (val*(9/5))+32\n",
    "                    elif dest=='Kelvin':\n",
    "                        return val+273.15\n",
    "                    else:\n",
    "                        return 'Hay un error en el valor de destino'\n",
    "                elif orgn=='Farenheit':\n",
    "                    if dest=='Celsius':\n",
    "                        return (val-32)*(5/9)\n",
    "                    elif dest=='Farenheit':\n",
    "                        return val\n",
    "                    elif dest=='Kelvin':\n",
    "                        return ((val-32)*(5/9))+273.15\n",
    "                    else:\n",
    "                        return 'Hay un error en el valor de destino'\n",
    "                elif orgn=='Kelvin':\n",
    "                    if dest=='Celsius':\n",
    "                        return val-273.15\n",
    "                    elif dest=='Farenheit':\n",
    "                        return ((val-273.15)*(9/5))+32\n",
    "                    elif dest=='Kelvin':\n",
    "                        return val\n",
    "                    else:\n",
    "                        return 'Hay un error en el valor de destino'\n",
    "                else:\n",
    "                    return 'Hay un error en el valor de origen'\n",
    "        \n",
    "    def factorial(self,lis:list)->list:\n",
    "                fact_lis=[self.__factorial(i) for i in self.lis]\n",
    "                return fact_lis\n",
    "    def __factorial(self,n:int)->int:\n",
    "                '''Ésta función devuelve el factorial de un número.\n",
    "                        n: Es un número entero y positivo\n",
    "                        output: Es un número estero y positivo'''\n",
    "                if type(n)==int and n>0:\n",
    "                    if n==1:\n",
    "                        return 1\n",
    "                    else:\n",
    "                        return n*self.__factorial(n-1)\n",
    "                else:\n",
    "                    return f'Hay un error en el valor de entrada. Por favor, revísalo.'"
   ]
  },
  {
   "cell_type": "code",
   "execution_count": 16,
   "metadata": {},
   "outputs": [
    {
     "ename": "AttributeError",
     "evalue": "'Tools_sec' object has no attribute 'lis'",
     "output_type": "error",
     "traceback": [
      "\u001b[1;31m---------------------------------------------------------------------------\u001b[0m",
      "\u001b[1;31mAttributeError\u001b[0m                            Traceback (most recent call last)",
      "\u001b[1;32mc:\\Users\\roylo\\OneDrive\\Escritorio\\Data Science\\Python-Prep\\M09_errorhandling\\Prep_Course_Homework_09.ipynb Celda 7\u001b[0m line \u001b[0;36m2\n\u001b[0;32m      <a href='vscode-notebook-cell:/c%3A/Users/roylo/OneDrive/Escritorio/Data%20Science/Python-Prep/M09_errorhandling/Prep_Course_Homework_09.ipynb#X22sZmlsZQ%3D%3D?line=0'>1</a>\u001b[0m lis\u001b[39m=\u001b[39m[\u001b[39m1\u001b[39m,\u001b[39m34\u001b[39m,\u001b[39m65\u001b[39m,\u001b[39m76\u001b[39m,\u001b[39m879\u001b[39m,\u001b[39m5\u001b[39m,\u001b[39m3\u001b[39m,\u001b[39m867\u001b[39m,\u001b[39m435\u001b[39m]\n\u001b[1;32m----> <a href='vscode-notebook-cell:/c%3A/Users/roylo/OneDrive/Escritorio/Data%20Science/Python-Prep/M09_errorhandling/Prep_Course_Homework_09.ipynb#X22sZmlsZQ%3D%3D?line=1'>2</a>\u001b[0m t\u001b[39m=\u001b[39mTools_sec(lis)\n",
      "\u001b[1;32mc:\\Users\\roylo\\OneDrive\\Escritorio\\Data Science\\Python-Prep\\M09_errorhandling\\Prep_Course_Homework_09.ipynb Celda 7\u001b[0m line \u001b[0;36m3\n\u001b[0;32m      <a href='vscode-notebook-cell:/c%3A/Users/roylo/OneDrive/Escritorio/Data%20Science/Python-Prep/M09_errorhandling/Prep_Course_Homework_09.ipynb#X22sZmlsZQ%3D%3D?line=1'>2</a>\u001b[0m \u001b[39mdef\u001b[39;00m \u001b[39m__init__\u001b[39m(\u001b[39mself\u001b[39m,lis:\u001b[39mlist\u001b[39m):\n\u001b[1;32m----> <a href='vscode-notebook-cell:/c%3A/Users/roylo/OneDrive/Escritorio/Data%20Science/Python-Prep/M09_errorhandling/Prep_Course_Homework_09.ipynb#X22sZmlsZQ%3D%3D?line=2'>3</a>\u001b[0m     \u001b[39mif\u001b[39;00m \u001b[39mall\u001b[39m([\u001b[39misinstance\u001b[39m(i,\u001b[39mint\u001b[39m) \u001b[39mfor\u001b[39;00m i \u001b[39min\u001b[39;00m \u001b[39mself\u001b[39;49m\u001b[39m.\u001b[39;49mlis]):\n\u001b[0;32m      <a href='vscode-notebook-cell:/c%3A/Users/roylo/OneDrive/Escritorio/Data%20Science/Python-Prep/M09_errorhandling/Prep_Course_Homework_09.ipynb#X22sZmlsZQ%3D%3D?line=3'>4</a>\u001b[0m          \u001b[39mself\u001b[39m\u001b[39m.\u001b[39mlis\u001b[39m=\u001b[39mlis\n\u001b[0;32m      <a href='vscode-notebook-cell:/c%3A/Users/roylo/OneDrive/Escritorio/Data%20Science/Python-Prep/M09_errorhandling/Prep_Course_Homework_09.ipynb#X22sZmlsZQ%3D%3D?line=4'>5</a>\u001b[0m     \u001b[39melse\u001b[39;00m:\n",
      "\u001b[1;31mAttributeError\u001b[0m: 'Tools_sec' object has no attribute 'lis'"
     ]
    }
   ],
   "source": [
    "lis=[1,34,65,76,879,5,3,867,435]\n",
    "t=Tools_sec(lis)"
   ]
  },
  {
   "cell_type": "code",
   "execution_count": 12,
   "metadata": {},
   "outputs": [
    {
     "ename": "AttributeError",
     "evalue": "'Tools_sec' object has no attribute 'Degree_Tranformation'",
     "output_type": "error",
     "traceback": [
      "\u001b[1;31m---------------------------------------------------------------------------\u001b[0m",
      "\u001b[1;31mAttributeError\u001b[0m                            Traceback (most recent call last)",
      "\u001b[1;32mc:\\Users\\roylo\\OneDrive\\Escritorio\\Data Science\\Python-Prep\\M09_errorhandling\\Prep_Course_Homework_09.ipynb Celda 8\u001b[0m line \u001b[0;36m1\n\u001b[1;32m----> <a href='vscode-notebook-cell:/c%3A/Users/roylo/OneDrive/Escritorio/Data%20Science/Python-Prep/M09_errorhandling/Prep_Course_Homework_09.ipynb#X23sZmlsZQ%3D%3D?line=0'>1</a>\u001b[0m t\u001b[39m.\u001b[39;49mDegree_Tranformation([\u001b[39m1\u001b[39m,\u001b[39m56\u001b[39m,\u001b[39m74\u001b[39m,\u001b[39m34\u001b[39m,\u001b[39m97\u001b[39m,\u001b[39m24\u001b[39m,\u001b[39m65\u001b[39m],\u001b[39m'\u001b[39m\u001b[39mCelius\u001b[39m\u001b[39m'\u001b[39m,\u001b[39m'\u001b[39m\u001b[39mFarenheit\u001b[39m\u001b[39m'\u001b[39m)\n",
      "\u001b[1;31mAttributeError\u001b[0m: 'Tools_sec' object has no attribute 'Degree_Tranformation'"
     ]
    }
   ],
   "source": [
    "t.Degree_Tranformation([1,56,74,34,97,24,65],'Celius','Farenheit')"
   ]
  },
  {
   "attachments": {},
   "cell_type": "markdown",
   "metadata": {},
   "source": [
    "3) Importar el modulo \"unittest\" y crear los siguientes casos de pruebas sobre la clase utilizada en el punto 2<br>\n",
    "Creacion del objeto incorrecta<br>\n",
    "Creacion correcta del objeto<br>\n",
    "Metodo valor_modal()<br>\n",
    "\n",
    "Se puede usar \"raise ValueError()\" en la creación de la clase para verificar el error. Investigar sobre esta funcionalidad."
   ]
  },
  {
   "cell_type": "code",
   "execution_count": null,
   "metadata": {},
   "outputs": [],
   "source": []
  },
  {
   "attachments": {},
   "cell_type": "markdown",
   "metadata": {},
   "source": [
    "4) Probar una creación incorrecta y visualizar la salida del \"raise\""
   ]
  },
  {
   "cell_type": "code",
   "execution_count": null,
   "metadata": {},
   "outputs": [],
   "source": []
  },
  {
   "attachments": {},
   "cell_type": "markdown",
   "metadata": {},
   "source": [
    "6) Agregar casos de pruebas para el método verifica_primos() realizando el cambio en la clase, para que devuelva una lista de True o False en función de que el elemento en la posisicón sea o no primo"
   ]
  },
  {
   "cell_type": "code",
   "execution_count": null,
   "metadata": {},
   "outputs": [],
   "source": []
  },
  {
   "attachments": {},
   "cell_type": "markdown",
   "metadata": {},
   "source": [
    "7) Agregar casos de pruebas para el método conversion_grados()"
   ]
  },
  {
   "cell_type": "code",
   "execution_count": null,
   "metadata": {},
   "outputs": [],
   "source": []
  },
  {
   "attachments": {},
   "cell_type": "markdown",
   "metadata": {},
   "source": [
    "8) Agregar casos de pruebas para el método factorial()"
   ]
  },
  {
   "cell_type": "code",
   "execution_count": null,
   "metadata": {},
   "outputs": [],
   "source": []
  }
 ],
 "metadata": {
  "interpreter": {
   "hash": "c85384e4cb51c8b72350f3a8712cc8351fdc3955e32a27f9b60c6242ab125f01"
  },
  "kernelspec": {
   "display_name": "Python 3 (ipykernel)",
   "language": "python",
   "name": "python3"
  },
  "language_info": {
   "codemirror_mode": {
    "name": "ipython",
    "version": 3
   },
   "file_extension": ".py",
   "mimetype": "text/x-python",
   "name": "python",
   "nbconvert_exporter": "python",
   "pygments_lexer": "ipython3",
   "version": "3.11.4"
  }
 },
 "nbformat": 4,
 "nbformat_minor": 4
}
