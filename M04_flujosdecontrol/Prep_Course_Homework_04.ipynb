{
 "cells": [
  {
   "cell_type": "code",
   "execution_count": null,
   "metadata": {},
   "outputs": [],
   "source": []
  },
  {
   "attachments": {},
   "cell_type": "markdown",
   "metadata": {},
   "source": [
    "## Flujos de Control"
   ]
  },
  {
   "attachments": {},
   "cell_type": "markdown",
   "metadata": {},
   "source": [
    "1) Crear una variable que contenga un elemento del conjunto de números enteros y luego imprimir por pantalla si es mayor o menor a cero"
   ]
  },
  {
   "cell_type": "code",
   "execution_count": 3,
   "metadata": {},
   "outputs": [
    {
     "name": "stdout",
     "output_type": "stream",
     "text": [
      "-8 es menor a cero\n"
     ]
    }
   ],
   "source": [
    "a=-8\n",
    "\n",
    "if a<0:\n",
    "    print(f'{a} es menor a cero')\n",
    "else:\n",
    "    print(f'{a} es mayor a cero')"
   ]
  },
  {
   "attachments": {},
   "cell_type": "markdown",
   "metadata": {},
   "source": [
    "2) Crear dos variables y un condicional que informe si son del mismo tipo de dato"
   ]
  },
  {
   "cell_type": "code",
   "execution_count": 4,
   "metadata": {},
   "outputs": [
    {
     "name": "stdout",
     "output_type": "stream",
     "text": [
      "Las variables son de distinto de tipo de dato\n"
     ]
    }
   ],
   "source": [
    "first_variable=46\n",
    "second_variable='Hola Mundo'\n",
    "\n",
    "if first_variable==second_variable:\n",
    "    print('Las variables son del mismo tipo de dato')\n",
    "else:\n",
    "    print('Las variables son de distinto de tipo de dato')"
   ]
  },
  {
   "attachments": {},
   "cell_type": "markdown",
   "metadata": {},
   "source": [
    "3) Para los valores enteros del 1 al 20, imprimir por pantalla si es par o impar"
   ]
  },
  {
   "cell_type": "code",
   "execution_count": 5,
   "metadata": {},
   "outputs": [
    {
     "name": "stdout",
     "output_type": "stream",
     "text": [
      "1 es impar\n",
      "2 es par\n",
      "3 es impar\n",
      "4 es par\n",
      "5 es impar\n",
      "6 es par\n",
      "7 es impar\n",
      "8 es par\n",
      "9 es impar\n",
      "10 es par\n",
      "11 es impar\n",
      "12 es par\n",
      "13 es impar\n",
      "14 es par\n",
      "15 es impar\n",
      "16 es par\n",
      "17 es impar\n",
      "18 es par\n",
      "19 es impar\n",
      "20 es par\n"
     ]
    }
   ],
   "source": [
    "for i in range(1,21):\n",
    "    if i%2==0:\n",
    "        print(f'{i} es par')\n",
    "    else:\n",
    "        print(f'{i} es impar')"
   ]
  },
  {
   "attachments": {},
   "cell_type": "markdown",
   "metadata": {},
   "source": [
    "4) En un ciclo for mostrar para los valores entre 0 y 5 el resultado de elevarlo a la potencia igual a 3"
   ]
  },
  {
   "cell_type": "code",
   "execution_count": 6,
   "metadata": {},
   "outputs": [
    {
     "name": "stdout",
     "output_type": "stream",
     "text": [
      "El resultado de 0 al cubo es 0\n",
      "El resultado de 1 al cubo es 1\n",
      "El resultado de 2 al cubo es 8\n",
      "El resultado de 3 al cubo es 27\n",
      "El resultado de 4 al cubo es 64\n",
      "El resultado de 5 al cubo es 125\n"
     ]
    }
   ],
   "source": [
    "for i in range(6):\n",
    "    print(f'El resultado de {i} al cubo es {i**3}')"
   ]
  },
  {
   "attachments": {},
   "cell_type": "markdown",
   "metadata": {},
   "source": [
    "5) Crear una variable que contenga un número entero y realizar un ciclo for la misma cantidad de ciclos"
   ]
  },
  {
   "cell_type": "code",
   "execution_count": 7,
   "metadata": {},
   "outputs": [
    {
     "name": "stdout",
     "output_type": "stream",
     "text": [
      "Éste es el ciclo 1\n",
      "Éste es el ciclo 2\n",
      "Éste es el ciclo 3\n",
      "Éste es el ciclo 4\n",
      "Éste es el ciclo 5\n"
     ]
    }
   ],
   "source": [
    "n=5\n",
    "\n",
    "for i in range(1,n+1):\n",
    "    print(f'Éste es el ciclo {i}')"
   ]
  },
  {
   "attachments": {},
   "cell_type": "markdown",
   "metadata": {},
   "source": [
    "6) Utilizar un ciclo while para realizar el factorial de un número guardado en una variable, sólo si la variable contiene un número entero mayor a 0"
   ]
  },
  {
   "cell_type": "code",
   "execution_count": 14,
   "metadata": {},
   "outputs": [
    {
     "name": "stdout",
     "output_type": "stream",
     "text": [
      "24\n"
     ]
    }
   ],
   "source": [
    "n=4\n",
    "counter=n\n",
    "factorial=1\n",
    "\n",
    "if type(n)==int and n>0:\n",
    "    while counter>=1:\n",
    "        factorial=counter*factorial\n",
    "        counter-=1\n",
    "print(factorial)"
   ]
  },
  {
   "attachments": {},
   "cell_type": "markdown",
   "metadata": {},
   "source": [
    "7) Crear un ciclo for dentro de un ciclo while"
   ]
  },
  {
   "cell_type": "code",
   "execution_count": 17,
   "metadata": {},
   "outputs": [
    {
     "name": "stdout",
     "output_type": "stream",
     "text": [
      "Ciclo 1 while\n",
      "Ciclo 1 for\n",
      "Ciclo 2 while\n",
      "Ciclo 1 for\n",
      "Ciclo 2 for\n",
      "Ciclo 3 while\n",
      "Ciclo 1 for\n",
      "Ciclo 2 for\n",
      "Ciclo 3 for\n",
      "Ciclo 4 while\n",
      "Ciclo 1 for\n",
      "Ciclo 2 for\n",
      "Ciclo 3 for\n",
      "Ciclo 4 for\n",
      "Ciclo 5 while\n",
      "Ciclo 1 for\n",
      "Ciclo 2 for\n",
      "Ciclo 3 for\n",
      "Ciclo 4 for\n",
      "Ciclo 5 for\n"
     ]
    }
   ],
   "source": [
    "counter=1\n",
    "\n",
    "while counter<=5:\n",
    "    print(f'Ciclo {counter} while')\n",
    "    for i in range(1,counter+1):\n",
    "        print(f'Ciclo {i} for')\n",
    "    counter+=1"
   ]
  },
  {
   "attachments": {},
   "cell_type": "markdown",
   "metadata": {},
   "source": [
    "8) Crear un ciclo while dentro de un ciclo for"
   ]
  },
  {
   "cell_type": "code",
   "execution_count": 22,
   "metadata": {},
   "outputs": [
    {
     "name": "stdout",
     "output_type": "stream",
     "text": [
      "Ciclo 1 for\n",
      "Ciclo 1 while\n",
      "Ciclo 2 while\n",
      "Ciclo 3 while\n",
      "Ciclo 4 while\n",
      "Ciclo 5 while\n",
      "Ciclo 2 for\n",
      "Ciclo 1 while\n",
      "Ciclo 2 while\n",
      "Ciclo 3 while\n",
      "Ciclo 4 while\n",
      "Ciclo 5 while\n",
      "Ciclo 3 for\n",
      "Ciclo 1 while\n",
      "Ciclo 2 while\n",
      "Ciclo 3 while\n",
      "Ciclo 4 while\n",
      "Ciclo 5 while\n",
      "Ciclo 4 for\n",
      "Ciclo 1 while\n",
      "Ciclo 2 while\n",
      "Ciclo 3 while\n",
      "Ciclo 4 while\n",
      "Ciclo 5 while\n",
      "Ciclo 5 for\n",
      "Ciclo 1 while\n",
      "Ciclo 2 while\n",
      "Ciclo 3 while\n",
      "Ciclo 4 while\n",
      "Ciclo 5 while\n"
     ]
    }
   ],
   "source": [
    "counter=1\n",
    "\n",
    "for i in range(1,6):\n",
    "    print(f'Ciclo {i} for')\n",
    "    while counter<=5:\n",
    "        print(f'Ciclo {counter} while')\n",
    "        counter+=1\n",
    "    counter=1"
   ]
  },
  {
   "attachments": {},
   "cell_type": "markdown",
   "metadata": {},
   "source": [
    "9) Imprimir los números primos existentes entre 0 y 30"
   ]
  },
  {
   "cell_type": "code",
   "execution_count": 23,
   "metadata": {},
   "outputs": [
    {
     "name": "stdout",
     "output_type": "stream",
     "text": [
      "0\n",
      "1\n",
      "2\n",
      "3\n",
      "5\n",
      "7\n",
      "11\n",
      "13\n",
      "17\n",
      "19\n",
      "23\n",
      "29\n"
     ]
    }
   ],
   "source": [
    "primo=True\n",
    "for i in range(31):\n",
    "    for j in range(2,i):\n",
    "        if i%j==0:\n",
    "            primo=False\n",
    "    if primo:\n",
    "        print(i)\n",
    "    else:\n",
    "        primo=True"
   ]
  },
  {
   "attachments": {},
   "cell_type": "markdown",
   "metadata": {},
   "source": [
    "10) ¿Se puede mejorar el proceso del punto 9? Utilizar las sentencias break y/ó continue para tal fin"
   ]
  },
  {
   "cell_type": "code",
   "execution_count": 24,
   "metadata": {},
   "outputs": [
    {
     "name": "stdout",
     "output_type": "stream",
     "text": [
      "0\n",
      "1\n",
      "2\n",
      "3\n",
      "5\n",
      "7\n",
      "11\n",
      "13\n",
      "17\n",
      "19\n",
      "23\n",
      "29\n"
     ]
    }
   ],
   "source": [
    "primo=True\n",
    "for i in range(31):\n",
    "    for j in range(2,i):\n",
    "        if i%j==0:\n",
    "            primo=False\n",
    "            break\n",
    "    if primo:\n",
    "        print(i)\n",
    "    else:\n",
    "        primo=True"
   ]
  },
  {
   "attachments": {},
   "cell_type": "markdown",
   "metadata": {},
   "source": [
    "11) En los puntos 9 y 10, se diseño un código que encuentra números primos y además se lo optimizó. ¿Es posible saber en qué medida se optimizó?"
   ]
  },
  {
   "cell_type": "code",
   "execution_count": 32,
   "metadata": {},
   "outputs": [
    {
     "name": "stdout",
     "output_type": "stream",
     "text": [
      "0\n",
      "1\n",
      "2\n",
      "3\n",
      "5\n",
      "7\n",
      "11\n",
      "13\n",
      "17\n",
      "19\n",
      "23\n",
      "29\n",
      "406 ciclos\n"
     ]
    }
   ],
   "source": [
    "primo=True\n",
    "ciclos_sin_break=0\n",
    "\n",
    "for i in range(31):\n",
    "    for j in range(2,i):\n",
    "        ciclos_sin_break+=1\n",
    "        if i%j==0:\n",
    "            primo=False\n",
    "    if primo:\n",
    "        print(i)\n",
    "    else:\n",
    "        primo=True\n",
    "print(f'{ciclos_sin_break} ciclos')\n",
    "sin_break=ciclos_sin_break"
   ]
  },
  {
   "attachments": {},
   "cell_type": "markdown",
   "metadata": {},
   "source": [
    "12) Aplicando continue, armar un ciclo while que solo imprima los valores divisibles por 12, dentro del rango de números de 100 a 300"
   ]
  },
  {
   "cell_type": "code",
   "execution_count": 31,
   "metadata": {},
   "outputs": [
    {
     "name": "stdout",
     "output_type": "stream",
     "text": [
      "0\n",
      "1\n",
      "2\n",
      "3\n",
      "5\n",
      "7\n",
      "11\n",
      "13\n",
      "17\n",
      "19\n",
      "23\n",
      "29\n",
      "135 ciclos\n"
     ]
    }
   ],
   "source": [
    "primo=True\n",
    "ciclos_con_break=0\n",
    "\n",
    "for i in range(31):\n",
    "    for j in range(2,i):\n",
    "        ciclos_con_break+=1\n",
    "        if i%j==0:\n",
    "            primo=False\n",
    "            break\n",
    "    if primo:\n",
    "        print(i)\n",
    "    else:\n",
    "        primo=True\n",
    "print(f'{ciclos_con_break} ciclos')\n",
    "con_break=ciclos_con_break"
   ]
  },
  {
   "cell_type": "code",
   "execution_count": 33,
   "metadata": {},
   "outputs": [
    {
     "data": {
      "text/plain": [
       "0.33251231527093594"
      ]
     },
     "execution_count": 33,
     "metadata": {},
     "output_type": "execute_result"
    }
   ],
   "source": [
    "con_break/sin_break"
   ]
  },
  {
   "attachments": {},
   "cell_type": "markdown",
   "metadata": {},
   "source": [
    "13) Utilizar la función **input()** que permite hacer ingresos por teclado, para encontrar números primos y dar la opción al usario de buscar el siguiente"
   ]
  },
  {
   "cell_type": "code",
   "execution_count": 21,
   "metadata": {},
   "outputs": [
    {
     "name": "stdout",
     "output_type": "stream",
     "text": [
      "0\n",
      "1\n",
      "2\n",
      "3\n",
      "5\n",
      "7\n",
      "11\n",
      "13\n",
      "17\n",
      "19\n",
      "23\n",
      "29\n",
      "31\n",
      "37\n",
      "41\n",
      "43\n",
      "47\n",
      "53\n",
      "59\n",
      "61\n",
      "67\n",
      "71\n",
      "73\n",
      "79\n",
      "83\n",
      "BÚSQUEDA FINALIZADA\n"
     ]
    }
   ],
   "source": [
    "prime=True\n",
    "next_prime=True\n",
    "counter=0\n",
    "\n",
    "\n",
    "while next_prime:\n",
    "    for i in range(2,counter):\n",
    "        if counter%i==0:\n",
    "            prime=False \n",
    "    if prime:\n",
    "        print(counter)\n",
    "        if input('¿Quieres encontrar el siguiente primo? Ingresa \"si\" o \"no\": ')=='no':\n",
    "            next_prime=False\n",
    "            print('búsqueda finalizada'.upper()) \n",
    "    else:\n",
    "        prime=True\n",
    "    counter+=1"
   ]
  },
  {
   "attachments": {},
   "cell_type": "markdown",
   "metadata": {},
   "source": [
    "14) Crear un ciclo while que encuentre dentro del rango de 100 a 300 el primer número divisible por 3 y además múltiplo de 6"
   ]
  },
  {
   "cell_type": "code",
   "execution_count": 5,
   "metadata": {},
   "outputs": [
    {
     "name": "stdout",
     "output_type": "stream",
     "text": [
      "102\n"
     ]
    }
   ],
   "source": [
    "counter=100\n",
    "\n",
    "while counter<=300:\n",
    "    if counter%6==0:\n",
    "        print(counter)\n",
    "        break\n",
    "    counter+=1"
   ]
  }
 ],
 "metadata": {
  "interpreter": {
   "hash": "c85384e4cb51c8b72350f3a8712cc8351fdc3955e32a27f9b60c6242ab125f01"
  },
  "kernelspec": {
   "display_name": "Python 3 (ipykernel)",
   "language": "python",
   "name": "python3"
  },
  "language_info": {
   "codemirror_mode": {
    "name": "ipython",
    "version": 3
   },
   "file_extension": ".py",
   "mimetype": "text/x-python",
   "name": "python",
   "nbconvert_exporter": "python",
   "pygments_lexer": "ipython3",
   "version": "3.11.4"
  }
 },
 "nbformat": 4,
 "nbformat_minor": 4
}
