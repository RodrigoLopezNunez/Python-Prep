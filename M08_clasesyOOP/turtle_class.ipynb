{
 "cells": [
  {
   "cell_type": "code",
   "execution_count": 1,
   "metadata": {},
   "outputs": [],
   "source": [
    "import turtle"
   ]
  },
  {
   "cell_type": "code",
   "execution_count": 3,
   "metadata": {},
   "outputs": [],
   "source": [
    "alejandro=turtle.Turtle()"
   ]
  },
  {
   "cell_type": "code",
   "execution_count": 8,
   "metadata": {},
   "outputs": [
    {
     "data": {
      "text/plain": [
       "'arrow'"
      ]
     },
     "execution_count": 8,
     "metadata": {},
     "output_type": "execute_result"
    }
   ],
   "source": [
    "alejandro.shape('arrow')\n",
    "alejandro.shape()"
   ]
  },
  {
   "cell_type": "code",
   "execution_count": 7,
   "metadata": {},
   "outputs": [
    {
     "name": "stdout",
     "output_type": "stream",
     "text": [
      "Help on function shape in module turtle:\n",
      "\n",
      "shape(name=None)\n",
      "    Set turtle shape to shape with given name / return current shapename.\n",
      "    \n",
      "    Optional argument:\n",
      "    name -- a string, which is a valid shapename\n",
      "    \n",
      "    Set turtle shape to shape with given name or, if name is not given,\n",
      "    return name of current shape.\n",
      "    Shape with name must exist in the TurtleScreen's shape dictionary.\n",
      "    Initially there are the following polygon shapes:\n",
      "    'arrow', 'turtle', 'circle', 'square', 'triangle', 'classic'.\n",
      "    To learn about how to deal with shapes see Screen-method register_shape.\n",
      "    \n",
      "    Example:\n",
      "    >>> shape()\n",
      "    'arrow'\n",
      "    >>> shape(\"turtle\")\n",
      "    >>> shape()\n",
      "    'turtle'\n",
      "\n"
     ]
    }
   ],
   "source": [
    "help(turtle.shape)"
   ]
  },
  {
   "cell_type": "code",
   "execution_count": 10,
   "metadata": {},
   "outputs": [
    {
     "name": "stdout",
     "output_type": "stream",
     "text": [
      "Help on function forward in module turtle:\n",
      "\n",
      "forward(distance)\n",
      "    Move the turtle forward by the specified distance.\n",
      "    \n",
      "    Aliases: forward | fd\n",
      "    \n",
      "    Argument:\n",
      "    distance -- a number (integer or float)\n",
      "    \n",
      "    Move the turtle forward by the specified distance, in the direction\n",
      "    the turtle is headed.\n",
      "    \n",
      "    Example:\n",
      "    >>> position()\n",
      "    (0.00, 0.00)\n",
      "    >>> forward(25)\n",
      "    >>> position()\n",
      "    (25.00,0.00)\n",
      "    >>> forward(-75)\n",
      "    >>> position()\n",
      "    (-50.00,0.00)\n",
      "\n"
     ]
    }
   ],
   "source": [
    "help(turtle.forward)"
   ]
  },
  {
   "cell_type": "code",
   "execution_count": 11,
   "metadata": {},
   "outputs": [],
   "source": [
    "alejandro.forward( 50)"
   ]
  },
  {
   "cell_type": "code",
   "execution_count": 12,
   "metadata": {},
   "outputs": [
    {
     "name": "stdout",
     "output_type": "stream",
     "text": [
      "Help on function color in module turtle:\n",
      "\n",
      "color(*args)\n",
      "    Return or set the pencolor and fillcolor.\n",
      "    \n",
      "    Arguments:\n",
      "    Several input formats are allowed.\n",
      "    They use 0, 1, 2, or 3 arguments as follows:\n",
      "    \n",
      "    color()\n",
      "        Return the current pencolor and the current fillcolor\n",
      "        as a pair of color specification strings as are returned\n",
      "        by pencolor and fillcolor.\n",
      "    color(colorstring), color((r,g,b)), color(r,g,b)\n",
      "        inputs as in pencolor, set both, fillcolor and pencolor,\n",
      "        to the given value.\n",
      "    color(colorstring1, colorstring2),\n",
      "    color((r1,g1,b1), (r2,g2,b2))\n",
      "        equivalent to pencolor(colorstring1) and fillcolor(colorstring2)\n",
      "        and analogously, if the other input format is used.\n",
      "    \n",
      "    If turtleshape is a polygon, outline and interior of that polygon\n",
      "    is drawn with the newly set colors.\n",
      "    For more info see: pencolor, fillcolor\n",
      "    \n",
      "    Example:\n",
      "    >>> color('red', 'green')\n",
      "    >>> color()\n",
      "    ('red', 'green')\n",
      "    >>> colormode(255)\n",
      "    >>> color((40, 80, 120), (160, 200, 240))\n",
      "    >>> color()\n",
      "    ('#285078', '#a0c8f0')\n",
      "\n"
     ]
    }
   ],
   "source": [
    "help(turtle.color)"
   ]
  },
  {
   "cell_type": "code",
   "execution_count": 18,
   "metadata": {},
   "outputs": [],
   "source": [
    "alejandro.color('white','purple')"
   ]
  },
  {
   "cell_type": "code",
   "execution_count": 35,
   "metadata": {},
   "outputs": [],
   "source": [
    "alejandro.backward(100)"
   ]
  },
  {
   "cell_type": "code",
   "execution_count": 49,
   "metadata": {},
   "outputs": [],
   "source": [
    "alejandro.forward(1)"
   ]
  },
  {
   "cell_type": "code",
   "execution_count": 50,
   "metadata": {},
   "outputs": [],
   "source": [
    "wn=turtle.Screen()"
   ]
  },
  {
   "cell_type": "code",
   "execution_count": 51,
   "metadata": {},
   "outputs": [],
   "source": [
    "wn.title('Hello world')"
   ]
  }
 ],
 "metadata": {
  "kernelspec": {
   "display_name": "Python 3",
   "language": "python",
   "name": "python3"
  },
  "language_info": {
   "codemirror_mode": {
    "name": "ipython",
    "version": 3
   },
   "file_extension": ".py",
   "mimetype": "text/x-python",
   "name": "python",
   "nbconvert_exporter": "python",
   "pygments_lexer": "ipython3",
   "version": "3.11.4"
  },
  "orig_nbformat": 4
 },
 "nbformat": 4,
 "nbformat_minor": 2
}
