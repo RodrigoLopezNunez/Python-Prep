{
 "cells": [
  {
   "cell_type": "markdown",
   "metadata": {},
   "source": [
    "## Pregunta 2"
   ]
  },
  {
   "cell_type": "code",
   "execution_count": null,
   "metadata": {},
   "outputs": [],
   "source": [
    "def ordenarDiccionario(diccionario, clave, ascendente=True):\n",
    "    # Write your code here\n",
    "    if clave not in diccionario.keys():\n",
    "        return None\n",
    "    dicc_sorted=sorted(range(len(diccionario[clave])),key=lambda i:diccionario[clave][i],reverse=not(ascendente))\n",
    "    for j in diccionario:\n",
    "        diccionario[j]=[diccionario[j][i] for i in dicc_sorted]\n",
    "    return diccionario"
   ]
  },
  {
   "cell_type": "markdown",
   "metadata": {},
   "source": [
    "## Pregunta 3"
   ]
  },
  {
   "cell_type": "code",
   "execution_count": null,
   "metadata": {},
   "outputs": [],
   "source": [
    "def numeroBinario(numero):\n",
    "    # Tu código aquí\n",
    "    if type(numero)==int and numero>=0:\n",
    "        binario=''\n",
    "        while numero//2!=0:\n",
    "            binario=str(numero%2)+binario\n",
    "            numero=numero//2\n",
    "        return int(str(numero)+binario)\n",
    "    else:\n",
    "        return None"
   ]
  },
  {
   "cell_type": "code",
   "execution_count": 57,
   "metadata": {},
   "outputs": [],
   "source": [
    "def binario(n:int)->int:\n",
    "    '''Ésta función devuelve la interpretación binaria de la entrada\n",
    "            input: ES un número entero positivo.\n",
    "            output: Es un número '''\n",
    "    if type(n) is int and n>=0:\n",
    "        lis=list(bin(n))\n",
    "        lis.remove('b')\n",
    "        lis.remove('0')\n",
    "        return(int(''.join(lis)))\n",
    "    else:\n",
    "        return f'{n} no es un valor entero o positivo. POr favor ingresa un valor válido'"
   ]
  },
  {
   "cell_type": "code",
   "execution_count": 60,
   "metadata": {},
   "outputs": [
    {
     "data": {
      "text/plain": [
       "'0b111000'"
      ]
     },
     "execution_count": 60,
     "metadata": {},
     "output_type": "execute_result"
    }
   ],
   "source": [
    "bin(56)"
   ]
  },
  {
   "cell_type": "code",
   "execution_count": 59,
   "metadata": {},
   "outputs": [
    {
     "data": {
      "text/plain": [
       "111000"
      ]
     },
     "execution_count": 59,
     "metadata": {},
     "output_type": "execute_result"
    }
   ],
   "source": [
    "binario(56)"
   ]
  },
  {
   "cell_type": "markdown",
   "metadata": {},
   "source": [
    "## Pregunta 4"
   ]
  },
  {
   "cell_type": "code",
   "execution_count": 63,
   "metadata": {},
   "outputs": [],
   "source": [
    "def proximoPrimo(num):\n",
    "    # Tu código aquí\n",
    "    def prime(n):\n",
    "        prime=True\n",
    "        for i in range(2,n):\n",
    "            if n%i==0:\n",
    "                prime=False\n",
    "                break\n",
    "        return prime\n",
    "    if prime(num):\n",
    "        while True:\n",
    "            num+=1\n",
    "            if prime(num):\n",
    "                return num\n",
    "    else:\n",
    "        return None"
   ]
  },
  {
   "cell_type": "code",
   "execution_count": 64,
   "metadata": {},
   "outputs": [
    {
     "data": {
      "text/plain": [
       "11"
      ]
     },
     "execution_count": 64,
     "metadata": {},
     "output_type": "execute_result"
    }
   ],
   "source": [
    "proximoPrimo(7)"
   ]
  },
  {
   "cell_type": "code",
   "execution_count": 66,
   "metadata": {},
   "outputs": [],
   "source": [
    "def next_prime(n:int)->int:\n",
    "    '''Ésta función devuelve el número primo más cercano; siempre y cuando la entrada sea un número primo\n",
    "            input: Es un número primo, entero y positivo.\n",
    "            output: Es un número primo, entero y positivo; mayor a la input.'''\n",
    "    def prime(n):\n",
    "        for i in range(2,n):\n",
    "            prime=True\n",
    "            if n%i==0:\n",
    "                prime=False\n",
    "                break\n",
    "        return prime\n",
    "    if prime(n):\n",
    "        while True:\n",
    "            n+=1\n",
    "            if prime(n):\n",
    "                return n\n",
    "    else:\n",
    "        return f'{n} no es un número primo o no es entero o no es positivo. Ingresa un valor adecuado'"
   ]
  },
  {
   "cell_type": "code",
   "execution_count": 70,
   "metadata": {},
   "outputs": [
    {
     "data": {
      "text/plain": [
       "83"
      ]
     },
     "execution_count": 70,
     "metadata": {},
     "output_type": "execute_result"
    }
   ],
   "source": [
    "next_prime(79)"
   ]
  },
  {
   "cell_type": "markdown",
   "metadata": {},
   "source": [
    "## Pregunta 6"
   ]
  },
  {
   "cell_type": "code",
   "execution_count": 2,
   "metadata": {},
   "outputs": [],
   "source": [
    "def factorizarNumero(numero):\n",
    "    # Tu código aquí\n",
    "    if type(numero)==int and numero>0:\n",
    "        def primo(n):\n",
    "            primo=True\n",
    "            for i in range(2,n):\n",
    "                if n%i==0:\n",
    "                    primo=False\n",
    "                    break\n",
    "            return primo\n",
    "        def next_prime(n):\n",
    "            while True:\n",
    "                n+=1\n",
    "                if primo(n):\n",
    "                    return n\n",
    "        lis_primes=[]\n",
    "        fac_primo=2\n",
    "        while numero>1:\n",
    "            if primo(fac_primo) and numero%fac_primo==0:\n",
    "                lis_primes.append(fac_primo)\n",
    "                numero=numero/fac_primo\n",
    "            else:\n",
    "                fac_primo=next_prime(fac_primo)\n",
    "        factores_primos=list(set(lis_primes))\n",
    "        exponentes=[]\n",
    "        for i in factores_primos:\n",
    "            exponentes.append(lis_primes.count(i))\n",
    "        return [factores_primos,exponentes]\n",
    "    else:\n",
    "        return None"
   ]
  },
  {
   "cell_type": "code",
   "execution_count": 6,
   "metadata": {},
   "outputs": [],
   "source": [
    "def factorial(n):\n",
    "    if n==1:\n",
    "        return 1\n",
    "    else:\n",
    "        return n*factorial(n-1)\n",
    "    "
   ]
  },
  {
   "cell_type": "code",
   "execution_count": 11,
   "metadata": {},
   "outputs": [
    {
     "data": {
      "text/plain": [
       "216"
      ]
     },
     "execution_count": 11,
     "metadata": {},
     "output_type": "execute_result"
    }
   ],
   "source": [
    "len(list(str(factorial(128))))"
   ]
  },
  {
   "cell_type": "code",
   "execution_count": 17,
   "metadata": {},
   "outputs": [],
   "source": [
    "hola='HOlasoyroy'"
   ]
  },
  {
   "cell_type": "code",
   "execution_count": 18,
   "metadata": {},
   "outputs": [
    {
     "ename": "ValueError",
     "evalue": "empty separator",
     "output_type": "error",
     "traceback": [
      "\u001b[1;31m---------------------------------------------------------------------------\u001b[0m",
      "\u001b[1;31mValueError\u001b[0m                                Traceback (most recent call last)",
      "\u001b[1;32mc:\\Users\\roylo\\OneDrive\\Escritorio\\Data Science\\Python-Prep\\M08_clasesyOOP\\Henry_challenge.ipynb Celda 18\u001b[0m line \u001b[0;36m1\n\u001b[1;32m----> <a href='vscode-notebook-cell:/c%3A/Users/roylo/OneDrive/Escritorio/Data%20Science/Python-Prep/M08_clasesyOOP/Henry_challenge.ipynb#X23sZmlsZQ%3D%3D?line=0'>1</a>\u001b[0m hola\u001b[39m.\u001b[39;49msplit(\u001b[39m'\u001b[39;49m\u001b[39m'\u001b[39;49m,\u001b[39m2\u001b[39;49m)\n",
      "\u001b[1;31mValueError\u001b[0m: empty separator"
     ]
    }
   ],
   "source": []
  }
 ],
 "metadata": {
  "kernelspec": {
   "display_name": "Python 3",
   "language": "python",
   "name": "python3"
  },
  "language_info": {
   "codemirror_mode": {
    "name": "ipython",
    "version": 3
   },
   "file_extension": ".py",
   "mimetype": "text/x-python",
   "name": "python",
   "nbconvert_exporter": "python",
   "pygments_lexer": "ipython3",
   "version": "3.11.4"
  },
  "orig_nbformat": 4
 },
 "nbformat": 4,
 "nbformat_minor": 2
}
