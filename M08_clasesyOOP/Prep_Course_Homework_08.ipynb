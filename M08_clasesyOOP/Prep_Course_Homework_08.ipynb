{
 "cells": [
  {
   "attachments": {},
   "cell_type": "markdown",
   "metadata": {},
   "source": [
    "## Clases y Programación Orientada a Objetos"
   ]
  },
  {
   "attachments": {},
   "cell_type": "markdown",
   "metadata": {},
   "source": [
    "1) Crear la clase vehículo que contenga los atributos:<br>\n",
    "Color<br>\n",
    "Si es moto, auto, camioneta ó camión<br>\n",
    "Cilindrada del motor"
   ]
  },
  {
   "cell_type": "code",
   "execution_count": 1,
   "metadata": {},
   "outputs": [],
   "source": [
    "class Auto:\n",
    "    def __init__(self,colour,type,displacement):\n",
    "        self.col=colour\n",
    "        self.ty=type\n",
    "        self.disp=displacement"
   ]
  },
  {
   "cell_type": "code",
   "execution_count": 2,
   "metadata": {},
   "outputs": [],
   "source": [
    "a1=Auto('Azul','Automóvil','2')"
   ]
  },
  {
   "attachments": {},
   "cell_type": "markdown",
   "metadata": {},
   "source": [
    "2) A la clase Vehiculo creada en el punto 1, agregar los siguientes métodos:<br>\n",
    "Acelerar<br>\n",
    "Frenar<br>\n",
    "Doblar<br>"
   ]
  },
  {
   "cell_type": "code",
   "execution_count": 5,
   "metadata": {},
   "outputs": [],
   "source": [
    "class Auto:\n",
    "    def __init__(self,colour,type,displacement):\n",
    "        self.col=colour\n",
    "        self.ty=type\n",
    "        self.disp=displacement\n",
    "        self.velocity=0\n",
    "        self.position=0\n",
    "    \n",
    "    def acelerate(self,vel:int):\n",
    "        self.velocity+=vel\n",
    "    \n",
    "    def curb(self,vel:int):\n",
    "        self.velocity-=vel\n",
    "    \n",
    "    def turn(self,degree:int):\n",
    "        self.position+=degree"
   ]
  },
  {
   "cell_type": "code",
   "execution_count": 6,
   "metadata": {},
   "outputs": [],
   "source": [
    "a1=Auto('Azul','Automóvil','2')"
   ]
  },
  {
   "cell_type": "code",
   "execution_count": 7,
   "metadata": {},
   "outputs": [],
   "source": [
    "a1.acelerate(67)\n",
    "a1.curb(43)\n",
    "a1.turn(56)"
   ]
  },
  {
   "attachments": {},
   "cell_type": "markdown",
   "metadata": {},
   "source": [
    "3) Instanciar 3 objetos de la clase vehículo y ejecutar sus métodos, probar luego el resultado"
   ]
  },
  {
   "cell_type": "code",
   "execution_count": null,
   "metadata": {},
   "outputs": [],
   "source": []
  },
  {
   "attachments": {},
   "cell_type": "markdown",
   "metadata": {},
   "source": [
    "4) Agregar a la clase Vehiculo, un método que muestre su estado, es decir, a que velocidad se encuentra y su dirección. Y otro método que muestre color, tipo y cilindrada"
   ]
  },
  {
   "cell_type": "code",
   "execution_count": 12,
   "metadata": {},
   "outputs": [],
   "source": [
    "class Auto:\n",
    "    def __init__(self,colour,type,displacement):\n",
    "        self.col=colour\n",
    "        self.ty=type\n",
    "        self.disp=displacement\n",
    "        self.velocity=0\n",
    "        self.direction=0\n",
    "    \n",
    "    def acelerate(self,vel:int):\n",
    "        self.velocity+=vel\n",
    "    \n",
    "    def curb(self,vel:int):\n",
    "        self.velocity-=vel\n",
    "    \n",
    "    def turn(self,degree:int):\n",
    "        self.direction+=degree\n",
    "    \n",
    "    def state(self):\n",
    "        return (f'Velocidad: {self.velocity}; Dirección: {self.direction}')\n",
    "\n",
    "    def atributes(self):\n",
    "        return (f'Color: {self.col}; Tipo de vehículo: {self.ty}; Cilindrada: {self.disp}')"
   ]
  },
  {
   "cell_type": "code",
   "execution_count": 13,
   "metadata": {},
   "outputs": [],
   "source": [
    "a1=Auto('Azul','Automóvil','2')"
   ]
  },
  {
   "cell_type": "code",
   "execution_count": 14,
   "metadata": {},
   "outputs": [],
   "source": [
    "a1.acelerate(67)\n",
    "a1.curb(43)\n",
    "a1.turn(56)"
   ]
  },
  {
   "cell_type": "code",
   "execution_count": 15,
   "metadata": {},
   "outputs": [
    {
     "name": "stdout",
     "output_type": "stream",
     "text": [
      "Velocidad: 24; Dirección: 56\n",
      "Color: Azul; Tipo de vehículo: Automóvil; Cilindrada: 2\n"
     ]
    }
   ],
   "source": [
    "print(a1.state())\n",
    "print(a1.atributes())"
   ]
  },
  {
   "attachments": {},
   "cell_type": "markdown",
   "metadata": {},
   "source": [
    "5) Crear una clase que permita utilizar las funciones creadas en la práctica del módulo 7<br>\n",
    "Verificar Primo<br>\n",
    "Valor modal<br>\n",
    "Conversión grados<br>\n",
    "Factorial<br>"
   ]
  },
  {
   "cell_type": "code",
   "execution_count": 1,
   "metadata": {},
   "outputs": [],
   "source": [
    "class Tools:\n",
    "    def __init__(self):\n",
    "        pass\n",
    "\n",
    "    def check_prime(self,n:int)->bool:\n",
    "        '''Ésta función recibe un número y verifica si es primo.\n",
    "                n: Es un número entero positivo\n",
    "                output: Devuelve un booleano.'''\n",
    "        prime=True\n",
    "        for i in range(2,n):\n",
    "            if n%i==0:\n",
    "                prime=False\n",
    "                break\n",
    "        return prime\n",
    "    \n",
    "    def most_common(self,lis:list,max_or_min='max')->int:\n",
    "        '''Ésta función itera una lista de números y devuelve el valor modal.\n",
    "                list: Una lista de números enteros.\n",
    "                output: Es una str con el valor modal y el número de repeticiones.'''\n",
    "        dicc={}\n",
    "        for i in lis:\n",
    "            if i in dicc.keys():\n",
    "                dicc[i]+=1\n",
    "            else:\n",
    "                dicc[i]=1\n",
    "        most_rep=[]\n",
    "        max_rep=0\n",
    "        for n,rep in dicc.items():\n",
    "            if rep>max_rep:\n",
    "                most_rep=[n]\n",
    "                max_rep=rep\n",
    "            elif rep==max_rep:\n",
    "                most_rep.append(n)\n",
    "        if max_or_min=='Max':\n",
    "            return f'El número mayor más repetido es {max(most_rep)} con {max_rep}'\n",
    "        elif max_or_min=='Min':\n",
    "            return f'El número menor más repetido es {min(most_rep)} con {max_rep}'\n",
    "        else:\n",
    "            return TypeError\n",
    "    \n",
    "    def Degree_Transformation(self,val:str,orgn:str,dest:str)->int:\n",
    "        '''Ésta función recibe una variable de tipo \"int\" representando temperatura; \n",
    "             recibe el origen de temperatura (ya sea \"Celsius\", \"Farenheit\" ó \"Kelvin\"; \n",
    "                de la misma manera que el destino de transformación)'''\n",
    "        if orgn=='Celsius':\n",
    "            if dest=='Celsius':\n",
    "                return val\n",
    "            elif dest=='Farenheit':\n",
    "                return (val*(9/5))+32\n",
    "            elif dest=='Kelvin':\n",
    "                return val+273.15\n",
    "            else:\n",
    "                return 'Hay un error en el valor de destino'\n",
    "        elif orgn=='Farenheit':\n",
    "            if dest=='Celsius':\n",
    "                return (val-32)*(5/9)\n",
    "            elif dest=='Farenheit':\n",
    "                return val\n",
    "            elif dest=='Kelvin':\n",
    "                return ((val-32)*(5/9))+273.15\n",
    "            else:\n",
    "                return 'Hay un error en el valor de destino'\n",
    "        elif orgn=='Kelvin':\n",
    "            if dest=='Celsius':\n",
    "                return val-273.15\n",
    "            elif dest=='Farenheit':\n",
    "                return ((val-273.15)*(9/5))+32\n",
    "            elif dest=='Kelvin':\n",
    "                return val\n",
    "            else:\n",
    "                return 'Hay un error en el valor de destino'\n",
    "        else:\n",
    "            return 'Hay un error en el valor de origen'\n",
    "    \n",
    "    def factorial(self,n:int)->int:\n",
    "        '''Ésta función devuelve el factorial de un número.\n",
    "                n: Es un número entero y positivo\n",
    "                output: Es un número estero y positivo'''\n",
    "        if type(n)==int and n>0:\n",
    "            if n==1:\n",
    "                return 1\n",
    "            else:\n",
    "                return n*self.factorial(n-1)\n",
    "        else:\n",
    "            return f'Hay un error en el valor de entrada. Por favor, revísalo.'\n",
    "    "
   ]
  },
  {
   "cell_type": "code",
   "execution_count": 2,
   "metadata": {},
   "outputs": [],
   "source": [
    "t=Tools()"
   ]
  },
  {
   "cell_type": "code",
   "execution_count": 3,
   "metadata": {},
   "outputs": [
    {
     "data": {
      "text/plain": [
       "120"
      ]
     },
     "execution_count": 3,
     "metadata": {},
     "output_type": "execute_result"
    }
   ],
   "source": [
    "t.factorial(5)"
   ]
  },
  {
   "cell_type": "code",
   "execution_count": 6,
   "metadata": {},
   "outputs": [
    {
     "data": {
      "text/plain": [
       "[1, 2, 3, 5, 7, 11, 13, 17, 19, 23, 29, 31, 37, 41, 43, 47]"
      ]
     },
     "execution_count": 6,
     "metadata": {},
     "output_type": "execute_result"
    }
   ],
   "source": [
    "prime_num=[i for i in range(1,51) if t.check_prime(i)]\n",
    "prime_num"
   ]
  },
  {
   "cell_type": "code",
   "execution_count": 8,
   "metadata": {},
   "outputs": [
    {
     "data": {
      "text/plain": [
       "[274.15,\n",
       " 275.15,\n",
       " 276.15,\n",
       " 277.15,\n",
       " 278.15,\n",
       " 279.15,\n",
       " 280.15,\n",
       " 281.15,\n",
       " 282.15,\n",
       " 283.15,\n",
       " 284.15,\n",
       " 285.15,\n",
       " 286.15,\n",
       " 287.15,\n",
       " 288.15,\n",
       " 289.15,\n",
       " 290.15,\n",
       " 291.15,\n",
       " 292.15,\n",
       " 293.15,\n",
       " 294.15,\n",
       " 295.15,\n",
       " 296.15,\n",
       " 297.15,\n",
       " 298.15,\n",
       " 299.15,\n",
       " 300.15,\n",
       " 301.15,\n",
       " 302.15,\n",
       " 303.15]"
      ]
     },
     "execution_count": 8,
     "metadata": {},
     "output_type": "execute_result"
    }
   ],
   "source": [
    "degree_tranform=[t.Degree_Transformation(i,'Celsius','Kelvin') for i in range(1,31)]\n",
    "degree_tranform"
   ]
  },
  {
   "attachments": {},
   "cell_type": "markdown",
   "metadata": {},
   "source": [
    "6) Probar las funciones incorporadas en la clase del punto 5"
   ]
  },
  {
   "cell_type": "code",
   "execution_count": 11,
   "metadata": {},
   "outputs": [
    {
     "data": {
      "text/plain": [
       "'Hay un error en el valor de origen'"
      ]
     },
     "execution_count": 11,
     "metadata": {},
     "output_type": "execute_result"
    }
   ],
   "source": [
    "t.Degree_Transformation(87,'Kelvn','Celsius')"
   ]
  },
  {
   "cell_type": "code",
   "execution_count": 18,
   "metadata": {},
   "outputs": [],
   "source": [
    "class c:\n",
    "    def __init__(self,lis):\n",
    "        self.lis=lis\n",
    "    \n",
    "    def check_prime(self)->list:\n",
    "        lis_of_primes=[i for i in self.lis if self.__check_prime(i)==True]\n",
    "        return lis_of_primes\n",
    "    def __check_prime(self,n:int)->bool:\n",
    "        '''Ésta función recibe un número y verifica si es primo.\n",
    "                n: Es un número entero positivo\n",
    "                output: Devuelve un booleano.'''\n",
    "        prime=True\n",
    "        for i in range(2,n):\n",
    "            if n%i==0:\n",
    "                prime=False\n",
    "                break\n",
    "        return prime\n",
    "    \n",
    "    def most_common(self,lis:list,max_or_min='max')->int:\n",
    "        '''Ésta función itera una lista de números y devuelve el valor modal.\n",
    "                list: Una lista de números enteros.\n",
    "                output: Es una str con el valor modal y el número de repeticiones.'''\n",
    "        dicc={}\n",
    "        for i in lis:\n",
    "            if i in dicc.keys():\n",
    "                dicc[i]+=1\n",
    "            else:\n",
    "                dicc[i]=1\n",
    "        most_rep=[]\n",
    "        max_rep=0\n",
    "        for n,rep in dicc.items():\n",
    "            if rep>max_rep:\n",
    "                most_rep=[n]\n",
    "                max_rep=rep\n",
    "            elif rep==max_rep:\n",
    "                most_rep.append(n)\n",
    "        if max_or_min=='Max':\n",
    "            return f'El número mayor más repetido es {max(most_rep)} con {max_rep}'\n",
    "        elif max_or_min=='Min':\n",
    "            return f'El número menor más repetido es {min(most_rep)} con {max_rep}'\n",
    "        else:\n",
    "            return TypeError\n",
    "    \n",
    "    def Degree_Tranformation(self,lis:list,org:str,dest:str)->list:\n",
    "        sec_lis=[self.__Degree_Transformation(i,org,dest) for i in self.lis]\n",
    "        return f'{lis} de {org}° a {dest}° es',sec_lis\n",
    "    def __Degree_Transformation(self,val:str,orgn:str,dest:str)->int:\n",
    "        '''Ésta función recibe una variable de tipo \"int\" representando temperatura; \n",
    "             recibe el origen de temperatura (ya sea \"Celsius\", \"Farenheit\" ó \"Kelvin\"; \n",
    "                de la misma manera que el destino de transformación)'''\n",
    "        if orgn=='Celsius':\n",
    "            if dest=='Celsius':\n",
    "                return val\n",
    "            elif dest=='Farenheit':\n",
    "                return (val*(9/5))+32\n",
    "            elif dest=='Kelvin':\n",
    "                return val+273.15\n",
    "            else:\n",
    "                return 'Hay un error en el valor de destino'\n",
    "        elif orgn=='Farenheit':\n",
    "            if dest=='Celsius':\n",
    "                return (val-32)*(5/9)\n",
    "            elif dest=='Farenheit':\n",
    "                return val\n",
    "            elif dest=='Kelvin':\n",
    "                return ((val-32)*(5/9))+273.15\n",
    "            else:\n",
    "                return 'Hay un error en el valor de destino'\n",
    "        elif orgn=='Kelvin':\n",
    "            if dest=='Celsius':\n",
    "                return val-273.15\n",
    "            elif dest=='Farenheit':\n",
    "                return ((val-273.15)*(9/5))+32\n",
    "            elif dest=='Kelvin':\n",
    "                return val\n",
    "            else:\n",
    "                return 'Hay un error en el valor de destino'\n",
    "        else:\n",
    "            return 'Hay un error en el valor de origen'\n",
    "    \n",
    "    def factorial(self,lis:list)->list:\n",
    "        fact_lis=[self.__factorial(i) for i in self.lis]\n",
    "        return fact_lis\n",
    "    def __factorial(self,n:int)->int:\n",
    "        '''Ésta función devuelve el factorial de un número.\n",
    "                n: Es un número entero y positivo\n",
    "                output: Es un número estero y positivo'''\n",
    "        if type(n)==int and n>0:\n",
    "            if n==1:\n",
    "                return 1\n",
    "            else:\n",
    "                return n*self.__factorial(n-1)\n",
    "        else:\n",
    "            return f'Hay un error en el valor de entrada. Por favor, revísalo.'\n",
    "    "
   ]
  },
  {
   "attachments": {},
   "cell_type": "markdown",
   "metadata": {},
   "source": [
    "7) Es necesario que la clase creada en el punto 5 contenga una lista, sobre la cual se apliquen las funciones incorporadas"
   ]
  },
  {
   "cell_type": "code",
   "execution_count": 44,
   "metadata": {},
   "outputs": [],
   "source": [
    "lis=list(range(1,5))\n",
    "t2=Tools_sec(lis)"
   ]
  },
  {
   "cell_type": "code",
   "execution_count": 46,
   "metadata": {},
   "outputs": [
    {
     "data": {
      "text/plain": [
       "[274.15, 275.15, 276.15, 277.15]"
      ]
     },
     "execution_count": 46,
     "metadata": {},
     "output_type": "execute_result"
    }
   ],
   "source": [
    "_,hola=t2.Degree_Tranformation(lis,'Celsius','Kelvin')\n",
    "hola"
   ]
  },
  {
   "attachments": {},
   "cell_type": "markdown",
   "metadata": {},
   "source": [
    "8) Crear un archivo .py aparte y ubicar allí la clase generada en el punto anterior. Luego realizar la importación del módulo y probar alguna de sus funciones"
   ]
  },
  {
   "cell_type": "code",
   "execution_count": 6,
   "metadata": {},
   "outputs": [
    {
     "ename": "ModuleNotFoundError",
     "evalue": "No module named 'Tools_sec'",
     "output_type": "error",
     "traceback": [
      "\u001b[1;31m---------------------------------------------------------------------------\u001b[0m",
      "\u001b[1;31mModuleNotFoundError\u001b[0m                       Traceback (most recent call last)",
      "\u001b[1;32mc:\\Users\\roylo\\OneDrive\\Escritorio\\Data Science\\Python-Prep\\M08_clasesyOOP\\Prep_Course_Homework_08.ipynb Celda 29\u001b[0m line \u001b[0;36m1\n\u001b[1;32m----> <a href='vscode-notebook-cell:/c%3A/Users/roylo/OneDrive/Escritorio/Data%20Science/Python-Prep/M08_clasesyOOP/Prep_Course_Homework_08.ipynb#X40sZmlsZQ%3D%3D?line=0'>1</a>\u001b[0m \u001b[39mimport\u001b[39;00m \u001b[39mTools_sec\u001b[39;00m\n",
      "\u001b[1;31mModuleNotFoundError\u001b[0m: No module named 'Tools_sec'"
     ]
    }
   ],
   "source": [
    "import Tools_sec"
   ]
  },
  {
   "cell_type": "code",
   "execution_count": 14,
   "metadata": {},
   "outputs": [],
   "source": [
    "from some_tools import *"
   ]
  },
  {
   "cell_type": "code",
   "execution_count": 15,
   "metadata": {},
   "outputs": [],
   "source": [
    "lis=list(range(1,31))\n",
    "t=Tools_sec(lis)"
   ]
  },
  {
   "cell_type": "code",
   "execution_count": 19,
   "metadata": {},
   "outputs": [
    {
     "data": {
      "text/plain": [
       "[1, 2, 3, 5, 7, 11, 13, 17, 19, 23, 29]"
      ]
     },
     "execution_count": 19,
     "metadata": {},
     "output_type": "execute_result"
    }
   ],
   "source": [
    "t.check_prime(lis)"
   ]
  },
  {
   "cell_type": "code",
   "execution_count": 21,
   "metadata": {},
   "outputs": [
    {
     "data": {
      "text/plain": [
       "('[1, 2, 3, 4, 5, 6, 7, 8, 9, 10, 11, 12, 13, 14, 15, 16, 17, 18, 19, 20, 21, 22, 23, 24, 25, 26, 27, 28, 29, 30] de Celsius° a Farenheit° es',\n",
       " [33.8,\n",
       "  35.6,\n",
       "  37.4,\n",
       "  39.2,\n",
       "  41.0,\n",
       "  42.8,\n",
       "  44.6,\n",
       "  46.4,\n",
       "  48.2,\n",
       "  50.0,\n",
       "  51.8,\n",
       "  53.6,\n",
       "  55.400000000000006,\n",
       "  57.2,\n",
       "  59.0,\n",
       "  60.8,\n",
       "  62.6,\n",
       "  64.4,\n",
       "  66.2,\n",
       "  68.0,\n",
       "  69.80000000000001,\n",
       "  71.6,\n",
       "  73.4,\n",
       "  75.2,\n",
       "  77.0,\n",
       "  78.80000000000001,\n",
       "  80.6,\n",
       "  82.4,\n",
       "  84.2,\n",
       "  86.0])"
      ]
     },
     "execution_count": 21,
     "metadata": {},
     "output_type": "execute_result"
    }
   ],
   "source": [
    "t.Degree_Tranformation(lis,'Celsius','Farenheit')"
   ]
  }
 ],
 "metadata": {
  "interpreter": {
   "hash": "c85384e4cb51c8b72350f3a8712cc8351fdc3955e32a27f9b60c6242ab125f01"
  },
  "kernelspec": {
   "display_name": "Python 3 (ipykernel)",
   "language": "python",
   "name": "python3"
  },
  "language_info": {
   "codemirror_mode": {
    "name": "ipython",
    "version": 3
   },
   "file_extension": ".py",
   "mimetype": "text/x-python",
   "name": "python",
   "nbconvert_exporter": "python",
   "pygments_lexer": "ipython3",
   "version": "3.11.4"
  }
 },
 "nbformat": 4,
 "nbformat_minor": 4
}
