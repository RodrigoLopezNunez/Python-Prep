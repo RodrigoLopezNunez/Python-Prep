{
 "cells": [
  {
   "cell_type": "code",
   "execution_count": 12,
   "metadata": {},
   "outputs": [],
   "source": [
    "if __name__ == '__main__':\n",
    "    dicc={}\n",
    "    students=[]\n",
    "    for _ in range(int(input())):\n",
    "        name = input()\n",
    "        score = float(input())\n",
    "        dicc[name]=score\n",
    "    min_grade=None\n",
    "    minumum=None\n",
    "    lis_min_studens=None\n",
    "    for name,grade in dicc.items():\n",
    "        if minumum==None:\n",
    "            minumum=grade\n",
    "            lis_min_studens=[name]\n",
    "        elif grade<minumum:\n",
    "            minumum=grade\n",
    "            lis_min_studens=[name]\n",
    "        elif grade==minumum:\n",
    "            lis_min_studens.append(name)\n",
    "    for i in lis_min_studens:\n",
    "        del dicc[i]\n",
    "\n",
    "    \n",
    "    for name,grade in dicc.items():\n",
    "        if min_grade==None:\n",
    "            min_grade=grade\n",
    "        elif grade<min_grade:\n",
    "            min_grade=grade\n",
    "            students=[name]\n",
    "        elif grade==min_grade:\n",
    "            students.append(name)\n",
    "    students.sort()\n",
    "    for i in students:\n",
    "        print(i)"
   ]
  },
  {
   "cell_type": "code",
   "execution_count": null,
   "metadata": {},
   "outputs": [],
   "source": [
    "if __name__ == '__main__':\n",
    "    dicc={}\n",
    "    students=[]\n",
    "    for _ in range(int(input())):\n",
    "        name = input()\n",
    "        score = float(input())\n",
    "        dicc[name]=score\n",
    "    "
   ]
  },
  {
   "cell_type": "code",
   "execution_count": 2,
   "metadata": {},
   "outputs": [],
   "source": [
    "dicc={'Roy':5,\n",
    "      'José':7,\n",
    "      'Julio':5}"
   ]
  },
  {
   "cell_type": "code",
   "execution_count": 3,
   "metadata": {},
   "outputs": [
    {
     "name": "stdout",
     "output_type": "stream",
     "text": [
      "('José', 7)\n",
      "('Julio', 5)\n",
      "('Roy', 5)\n"
     ]
    }
   ],
   "source": [
    "dicc_sorted=sorted(dicc.items(),key=lambda grade:grade)\n",
    "for i in dicc_sorted:\n",
    "    print(i)"
   ]
  },
  {
   "cell_type": "code",
   "execution_count": 34,
   "metadata": {},
   "outputs": [
    {
     "data": {
      "text/plain": [
       "{'Roy': 5, 'Julio': 5, 'José': 7}"
      ]
     },
     "execution_count": 34,
     "metadata": {},
     "output_type": "execute_result"
    }
   ],
   "source": [
    "dicc_sorted=dict(sorted(dicc.items(),key=lambda grade:grade[1]))\n",
    "dicc_sorted"
   ]
  },
  {
   "cell_type": "code",
   "execution_count": 38,
   "metadata": {},
   "outputs": [
    {
     "data": {
      "text/plain": [
       "7"
      ]
     },
     "execution_count": 38,
     "metadata": {},
     "output_type": "execute_result"
    }
   ],
   "source": [
    "dicc_set=list(set(dicc_sorted.values()))[1]\n",
    "dicc_set"
   ]
  },
  {
   "cell_type": "code",
   "execution_count": null,
   "metadata": {},
   "outputs": [],
   "source": [
    "if __name__ == '__main__':\n",
    "    dicc={}\n",
    "    students=[]\n",
    "    for _ in range(int(input())):\n",
    "        name = input()\n",
    "        score = float(input())\n",
    "        dicc[name]=score\n",
    "    dicc_sorted=dict(sorted(dicc.values(),key=lambda grade: grade[1]))\n",
    "    sec_lowest=list(set(dicc_sorted.values()))\n",
    "    sec_lowest.sort()\n",
    "    values=sorted([i for i in dicc if dicc[i]==sec_lowest[1]])\n",
    "    for i in values:\n",
    "        print(i)"
   ]
  },
  {
   "cell_type": "code",
   "execution_count": 6,
   "metadata": {},
   "outputs": [
    {
     "data": {
      "text/plain": [
       "4444"
      ]
     },
     "execution_count": 6,
     "metadata": {},
     "output_type": "execute_result"
    }
   ],
   "source": [
    "x=4\n",
    "\n",
    "y=round(1/9*10**x)*x\n",
    "y"
   ]
  }
 ],
 "metadata": {
  "kernelspec": {
   "display_name": "Python 3",
   "language": "python",
   "name": "python3"
  },
  "language_info": {
   "codemirror_mode": {
    "name": "ipython",
    "version": 3
   },
   "file_extension": ".py",
   "mimetype": "text/x-python",
   "name": "python",
   "nbconvert_exporter": "python",
   "pygments_lexer": "ipython3",
   "version": "3.11.4"
  },
  "orig_nbformat": 4
 },
 "nbformat": 4,
 "nbformat_minor": 2
}
